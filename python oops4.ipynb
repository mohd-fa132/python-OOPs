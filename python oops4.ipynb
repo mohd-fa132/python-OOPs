{
 "cells": [
  {
   "cell_type": "code",
   "execution_count": 1,
   "id": "8d5b8482-9021-4f6a-aab0-3f8a8005b02b",
   "metadata": {},
   "outputs": [
    {
     "name": "stdout",
     "output_type": "stream",
     "text": [
      "CS101 : Introduction to computer science, Core_course : True, 3 Credit hours\n",
      "CS101 : Introduction to computer science, Elective_course : Data Analytics, 3 Credit hours\n"
     ]
    }
   ],
   "source": [
    "class Course:\n",
    "    def __init__(self,c_code,c_name,c_credit):\n",
    "        self.course_code = c_code\n",
    "        self.course_name = c_name\n",
    "        self.course_credit = c_credit\n",
    "\n",
    "    def print_details(self):\n",
    "            print(f\"{self.course_code} : {self.course_name}, {self.course_credit} Credit hours\")\n",
    "\n",
    "\n",
    "class CoreCourse(Course):\n",
    "    def __init__(self,c_code,c_name,c_credit,major):\n",
    "        self.course_code = c_code\n",
    "        self.course_name = c_name\n",
    "        self.course_credit = c_credit\n",
    "        self.required_for_major = major\n",
    "\n",
    "    def print_details(self):\n",
    "        print(f\"{self.course_code} : {self.course_name}, Core_course : {self.required_for_major}, {self.course_credit} Credit hours\")\n",
    "\n",
    "\n",
    "class ElectiveCourse(Course):\n",
    "    def __init__(self,c_code,c_name,c_credit,elective_type):\n",
    "        self.course_code = c_code\n",
    "        self.course_name = c_name\n",
    "        self.course_credit = c_credit\n",
    "        self.elective_type = elective_type\n",
    "\n",
    "    def print_details(self):\n",
    "        print(f\"{self.course_code} : {self.course_name}, Elective_course : {self.elective_type}, {self.course_credit} Credit hours\")\n",
    "\n",
    "\n",
    "\n",
    "core = CoreCourse('CS101','Introduction to computer science',3,True)\n",
    "core.print_details()\n",
    "\n",
    "elective = ElectiveCourse('CS101','Introduction to computer science',3,'Data Analytics')\n",
    "elective.print_details()"
   ]
  },
  {
   "cell_type": "code",
   "execution_count": null,
   "id": "2c285d75-56af-4203-a6c4-1dc471c6b8a9",
   "metadata": {},
   "outputs": [],
   "source": []
  }
 ],
 "metadata": {
  "kernelspec": {
   "display_name": "Python [conda env:base] *",
   "language": "python",
   "name": "conda-base-py"
  },
  "language_info": {
   "codemirror_mode": {
    "name": "ipython",
    "version": 3
   },
   "file_extension": ".py",
   "mimetype": "text/x-python",
   "name": "python",
   "nbconvert_exporter": "python",
   "pygments_lexer": "ipython3",
   "version": "3.12.7"
  }
 },
 "nbformat": 4,
 "nbformat_minor": 5
}
